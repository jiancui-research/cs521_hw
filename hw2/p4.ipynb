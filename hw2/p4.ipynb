{
  "cells": [
    {
      "cell_type": "markdown",
      "id": "bbe70a96",
      "metadata": {
        "id": "bbe70a96"
      },
      "source": [
        "## Interval Analysis"
      ]
    },
    {
      "cell_type": "code",
      "execution_count": 1,
      "id": "6bbda12e",
      "metadata": {
        "colab": {
          "base_uri": "https://localhost:8080/"
        },
        "id": "6bbda12e",
        "outputId": "7e9cb215-68bd-448b-c597-86b107b13271"
      },
      "outputs": [
        {
          "data": {
            "text/plain": [
              "NetBP(\n",
              "  (flatten): Flatten(start_dim=1, end_dim=-1)\n",
              "  (fc1): Linear(in_features=784, out_features=200, bias=True)\n",
              "  (relu): ReLU()\n",
              "  (fc2): Linear(in_features=200, out_features=10, bias=True)\n",
              ")"
            ]
          },
          "execution_count": 1,
          "metadata": {},
          "output_type": "execute_result"
        }
      ],
      "source": [
        "# !pip install tensorboardX\n",
        "\n",
        "import torch\n",
        "import torch.nn as nn\n",
        "import torch.optim as optim\n",
        "import torch.nn.functional as F\n",
        "import numpy as np\n",
        "import time\n",
        "import matplotlib.pyplot as plt\n",
        "\n",
        "from torchvision import datasets, transforms\n",
        "# from tensorboardX import SummaryWriter\n",
        "\n",
        "use_cuda = False\n",
        "device = torch.device(\"cuda\" if use_cuda else \"cpu\")\n",
        "batch_size = 64\n",
        "\n",
        "np.random.seed(42)\n",
        "torch.manual_seed(42)\n",
        "\n",
        "\n",
        "## Dataloaders\n",
        "train_dataset = datasets.MNIST('mnist_data/', train=True, download=True, transform=transforms.Compose(\n",
        "    [transforms.ToTensor()]\n",
        "))\n",
        "test_dataset = datasets.MNIST('mnist_data/', train=False, download=True, transform=transforms.Compose(\n",
        "    [transforms.ToTensor()]\n",
        "))\n",
        "\n",
        "train_loader = torch.utils.data.DataLoader(train_dataset, batch_size=batch_size, shuffle=True)\n",
        "test_loader = torch.utils.data.DataLoader(test_dataset, batch_size=batch_size, shuffle=False)\n",
        "\n",
        "## Simple NN. You can change this if you want. If you change it, mention the architectural details in your report.\n",
        "# class Net(nn.Module):\n",
        "#     def __init__(self):\n",
        "#         super(Net, self).__init__()\n",
        "#         self.fc = nn.Linear(28*28, 200)\n",
        "#         self.fc2 = nn.Linear(200,10)\n",
        "\n",
        "#     def forward(self, x):\n",
        "#         x = x.view((-1, 28*28))\n",
        "#         x = F.relu(self.fc(x))\n",
        "#         x = self.fc2(x)\n",
        "#         x = F.softmax(x, dim=-1) # added softmax for probabilities\n",
        "#         return x\n",
        "\n",
        "# class Normalize(nn.Module):\n",
        "#     def forward(self, x):\n",
        "#         return (x - 0.1307)/0.3081\n",
        "\n",
        "# Add the data normalization as a first \"layer\" to the network\n",
        "# this allows us to search for adverserial examples to the real image, rather than\n",
        "# to the normalized image\n",
        "# model = nn.Sequential(Normalize(), Net())\n",
        "# model = model.to(device)\n",
        "\n",
        "\n",
        "## make model compatible with the package\n",
        "class NetBP(nn.Module):\n",
        "    def __init__(self):\n",
        "        super().__init__()\n",
        "        self.flatten = nn.Flatten()\n",
        "        self.fc1 = nn.Linear(28*28, 200)\n",
        "        self.relu = nn.ReLU()\n",
        "        self.fc2 = nn.Linear(200, 10)  # logits\n",
        "    def forward(self, x):\n",
        "        x = self.flatten(x)\n",
        "        x = self.relu(self.fc1(x))\n",
        "        return self.fc2(x)\n",
        "\n",
        "model = NetBP().to(device)\n",
        "\n",
        "model.train()\n"
      ]
    },
    {
      "cell_type": "code",
      "execution_count": 2,
      "id": "0a6282f7",
      "metadata": {
        "id": "0a6282f7"
      },
      "outputs": [],
      "source": [
        "def train_model(model, num_epochs):\n",
        "    criterion = nn.CrossEntropyLoss()\n",
        "    optimizer = optim.SGD(model.parameters(), lr=0.001, momentum=0.9)\n",
        "\n",
        "    for epoch in range(num_epochs):\n",
        "        model.train()\n",
        "        running_loss = 0.0\n",
        "        for i, data in enumerate(train_loader, 0):\n",
        "            images, labels = data\n",
        "            images, labels = images.to(device), labels.to(device)\n",
        "\n",
        "            optimizer.zero_grad()\n",
        "            outputs = model(images)\n",
        "            loss = criterion(outputs, labels)\n",
        "            loss.backward()\n",
        "            optimizer.step()\n",
        "\n",
        "            running_loss += loss.item()\n",
        "\n",
        "        print(f'Epoch {epoch+1}/{num_epochs}, Loss: {running_loss/len(train_loader):.3f}')\n",
        "\n",
        "def test_model(model):\n",
        "    model.eval()\n",
        "    with torch.no_grad():\n",
        "        correct = 0\n",
        "        total = 0\n",
        "        for data in test_loader:\n",
        "            images, labels = data\n",
        "            images, labels = images.to(device), labels.to(device)\n",
        "            outputs = model(images)\n",
        "            _, predicted = torch.max(outputs.data, 1)\n",
        "            total += labels.size(0)\n",
        "            correct += (predicted == labels).sum().item()\n",
        "        print(f'Accuracy on images: {100 * correct / total}')"
      ]
    },
    {
      "cell_type": "code",
      "execution_count": 3,
      "id": "72dd8bd6",
      "metadata": {
        "colab": {
          "base_uri": "https://localhost:8080/"
        },
        "id": "72dd8bd6",
        "outputId": "ea2c0410-acc0-487e-b455-b4ca573c39fc"
      },
      "outputs": [
        {
          "name": "stdout",
          "output_type": "stream",
          "text": [
            "Epoch 1/15, Loss: 1.250\n",
            "Epoch 2/15, Loss: 0.498\n",
            "Epoch 3/15, Loss: 0.395\n",
            "Epoch 4/15, Loss: 0.353\n",
            "Epoch 5/15, Loss: 0.327\n",
            "Epoch 6/15, Loss: 0.308\n",
            "Epoch 7/15, Loss: 0.293\n",
            "Epoch 8/15, Loss: 0.280\n",
            "Epoch 9/15, Loss: 0.268\n",
            "Epoch 10/15, Loss: 0.257\n",
            "Epoch 11/15, Loss: 0.247\n",
            "Epoch 12/15, Loss: 0.238\n",
            "Epoch 13/15, Loss: 0.229\n",
            "Epoch 14/15, Loss: 0.221\n",
            "Epoch 15/15, Loss: 0.213\n",
            "Accuracy on images: 94.25\n"
          ]
        }
      ],
      "source": [
        "train_model(model, 15)\n",
        "test_model(model)"
      ]
    },
    {
      "cell_type": "markdown",
      "id": "c7c23f92",
      "metadata": {
        "id": "c7c23f92"
      },
      "source": [
        "### Write the interval analysis for the simple model"
      ]
    },
    {
      "cell_type": "code",
      "execution_count": 4,
      "id": "d97f7f25",
      "metadata": {
        "colab": {
          "base_uri": "https://localhost:8080/"
        },
        "id": "d97f7f25",
        "outputId": "d96f757b-4aa8-4162-df64-2ec2c6f32545"
      },
      "outputs": [
        {
          "name": "stdout",
          "output_type": "stream",
          "text": [
            "fatal: destination path 'auto_LiRPA' already exists and is not an empty directory.\n",
            "Processing ./auto_LiRPA\n",
            "  Preparing metadata (setup.py) ... \u001b[?25l\u001b[?25hdone\n",
            "Requirement already satisfied: torch<2.4.0,>=2.0.0 in /usr/local/lib/python3.12/dist-packages (from auto_LiRPA==0.6.0) (2.3.1)\n",
            "Requirement already satisfied: torchvision<0.19.0,>=0.12.0 in /usr/local/lib/python3.12/dist-packages (from auto_LiRPA==0.6.0) (0.18.1)\n",
            "Requirement already satisfied: numpy<2.0,>=1.20 in /usr/local/lib/python3.12/dist-packages (from auto_LiRPA==0.6.0) (1.26.4)\n",
            "Requirement already satisfied: packaging>=20.0 in /usr/local/lib/python3.12/dist-packages (from auto_LiRPA==0.6.0) (25.0)\n",
            "Requirement already satisfied: pytest==8.1.1 in /usr/local/lib/python3.12/dist-packages (from auto_LiRPA==0.6.0) (8.1.1)\n",
            "Requirement already satisfied: pylint>=2.15 in /usr/local/lib/python3.12/dist-packages (from auto_LiRPA==0.6.0) (3.3.8)\n",
            "Requirement already satisfied: pytest-order>=1.0.0 in /usr/local/lib/python3.12/dist-packages (from auto_LiRPA==0.6.0) (1.3.0)\n",
            "Requirement already satisfied: pytest-mock>=3.14 in /usr/local/lib/python3.12/dist-packages (from auto_LiRPA==0.6.0) (3.15.1)\n",
            "Requirement already satisfied: appdirs>=1.4 in /usr/local/lib/python3.12/dist-packages (from auto_LiRPA==0.6.0) (1.4.4)\n",
            "Requirement already satisfied: pyyaml>=5.0 in /usr/local/lib/python3.12/dist-packages (from auto_LiRPA==0.6.0) (6.0.3)\n",
            "Requirement already satisfied: ninja<1.11.1.2,>=1.10 in /usr/local/lib/python3.12/dist-packages (from auto_LiRPA==0.6.0) (1.11.1.1)\n",
            "Requirement already satisfied: tqdm>=4.64 in /usr/local/lib/python3.12/dist-packages (from auto_LiRPA==0.6.0) (4.67.1)\n",
            "Requirement already satisfied: graphviz>=0.20.3 in /usr/local/lib/python3.12/dist-packages (from auto_LiRPA==0.6.0) (0.21)\n",
            "Requirement already satisfied: iniconfig in /usr/local/lib/python3.12/dist-packages (from pytest==8.1.1->auto_LiRPA==0.6.0) (2.1.0)\n",
            "Requirement already satisfied: pluggy<2.0,>=1.4 in /usr/local/lib/python3.12/dist-packages (from pytest==8.1.1->auto_LiRPA==0.6.0) (1.6.0)\n",
            "Requirement already satisfied: astroid<=3.4.0.dev0,>=3.3.8 in /usr/local/lib/python3.12/dist-packages (from pylint>=2.15->auto_LiRPA==0.6.0) (3.3.11)\n",
            "Requirement already satisfied: dill>=0.3.6 in /usr/local/lib/python3.12/dist-packages (from pylint>=2.15->auto_LiRPA==0.6.0) (0.3.8)\n",
            "Requirement already satisfied: isort!=5.13,<7,>=4.2.5 in /usr/local/lib/python3.12/dist-packages (from pylint>=2.15->auto_LiRPA==0.6.0) (6.1.0)\n",
            "Requirement already satisfied: mccabe<0.8,>=0.6 in /usr/local/lib/python3.12/dist-packages (from pylint>=2.15->auto_LiRPA==0.6.0) (0.7.0)\n",
            "Requirement already satisfied: platformdirs>=2.2 in /usr/local/lib/python3.12/dist-packages (from pylint>=2.15->auto_LiRPA==0.6.0) (4.4.0)\n",
            "Requirement already satisfied: tomlkit>=0.10.1 in /usr/local/lib/python3.12/dist-packages (from pylint>=2.15->auto_LiRPA==0.6.0) (0.13.3)\n",
            "Requirement already satisfied: filelock in /usr/local/lib/python3.12/dist-packages (from torch<2.4.0,>=2.0.0->auto_LiRPA==0.6.0) (3.19.1)\n",
            "Requirement already satisfied: typing-extensions>=4.8.0 in /usr/local/lib/python3.12/dist-packages (from torch<2.4.0,>=2.0.0->auto_LiRPA==0.6.0) (4.15.0)\n",
            "Requirement already satisfied: sympy in /usr/local/lib/python3.12/dist-packages (from torch<2.4.0,>=2.0.0->auto_LiRPA==0.6.0) (1.13.3)\n",
            "Requirement already satisfied: networkx in /usr/local/lib/python3.12/dist-packages (from torch<2.4.0,>=2.0.0->auto_LiRPA==0.6.0) (3.5)\n",
            "Requirement already satisfied: jinja2 in /usr/local/lib/python3.12/dist-packages (from torch<2.4.0,>=2.0.0->auto_LiRPA==0.6.0) (3.1.6)\n",
            "Requirement already satisfied: fsspec in /usr/local/lib/python3.12/dist-packages (from torch<2.4.0,>=2.0.0->auto_LiRPA==0.6.0) (2025.3.0)\n",
            "Requirement already satisfied: nvidia-cuda-nvrtc-cu12==12.1.105 in /usr/local/lib/python3.12/dist-packages (from torch<2.4.0,>=2.0.0->auto_LiRPA==0.6.0) (12.1.105)\n",
            "Requirement already satisfied: nvidia-cuda-runtime-cu12==12.1.105 in /usr/local/lib/python3.12/dist-packages (from torch<2.4.0,>=2.0.0->auto_LiRPA==0.6.0) (12.1.105)\n",
            "Requirement already satisfied: nvidia-cuda-cupti-cu12==12.1.105 in /usr/local/lib/python3.12/dist-packages (from torch<2.4.0,>=2.0.0->auto_LiRPA==0.6.0) (12.1.105)\n",
            "Requirement already satisfied: nvidia-cudnn-cu12==8.9.2.26 in /usr/local/lib/python3.12/dist-packages (from torch<2.4.0,>=2.0.0->auto_LiRPA==0.6.0) (8.9.2.26)\n",
            "Requirement already satisfied: nvidia-cublas-cu12==12.1.3.1 in /usr/local/lib/python3.12/dist-packages (from torch<2.4.0,>=2.0.0->auto_LiRPA==0.6.0) (12.1.3.1)\n",
            "Requirement already satisfied: nvidia-cufft-cu12==11.0.2.54 in /usr/local/lib/python3.12/dist-packages (from torch<2.4.0,>=2.0.0->auto_LiRPA==0.6.0) (11.0.2.54)\n",
            "Requirement already satisfied: nvidia-curand-cu12==10.3.2.106 in /usr/local/lib/python3.12/dist-packages (from torch<2.4.0,>=2.0.0->auto_LiRPA==0.6.0) (10.3.2.106)\n",
            "Requirement already satisfied: nvidia-cusolver-cu12==11.4.5.107 in /usr/local/lib/python3.12/dist-packages (from torch<2.4.0,>=2.0.0->auto_LiRPA==0.6.0) (11.4.5.107)\n",
            "Requirement already satisfied: nvidia-cusparse-cu12==12.1.0.106 in /usr/local/lib/python3.12/dist-packages (from torch<2.4.0,>=2.0.0->auto_LiRPA==0.6.0) (12.1.0.106)\n",
            "Requirement already satisfied: nvidia-nccl-cu12==2.20.5 in /usr/local/lib/python3.12/dist-packages (from torch<2.4.0,>=2.0.0->auto_LiRPA==0.6.0) (2.20.5)\n",
            "Requirement already satisfied: nvidia-nvtx-cu12==12.1.105 in /usr/local/lib/python3.12/dist-packages (from torch<2.4.0,>=2.0.0->auto_LiRPA==0.6.0) (12.1.105)\n",
            "Requirement already satisfied: nvidia-nvjitlink-cu12 in /usr/local/lib/python3.12/dist-packages (from nvidia-cusolver-cu12==11.4.5.107->torch<2.4.0,>=2.0.0->auto_LiRPA==0.6.0) (12.6.85)\n",
            "Requirement already satisfied: pillow!=8.3.*,>=5.3.0 in /usr/local/lib/python3.12/dist-packages (from torchvision<0.19.0,>=0.12.0->auto_LiRPA==0.6.0) (11.3.0)\n",
            "Requirement already satisfied: MarkupSafe>=2.0 in /usr/local/lib/python3.12/dist-packages (from jinja2->torch<2.4.0,>=2.0.0->auto_LiRPA==0.6.0) (3.0.3)\n",
            "Requirement already satisfied: mpmath<1.4,>=1.1.0 in /usr/local/lib/python3.12/dist-packages (from sympy->torch<2.4.0,>=2.0.0->auto_LiRPA==0.6.0) (1.3.0)\n",
            "Building wheels for collected packages: auto_LiRPA\n",
            "  Building wheel for auto_LiRPA (setup.py) ... \u001b[?25l\u001b[?25hdone\n",
            "  Created wheel for auto_LiRPA: filename=auto_LiRPA-0.6.0-py3-none-any.whl size=250500 sha256=55ea274ab2a55311b46c09ba6f9d6f23a9597967c54b32f292c187f037b44051\n",
            "  Stored in directory: /tmp/pip-ephem-wheel-cache-vxbqipzv/wheels/40/50/3c/d3268d5650dce1e4b6195a2b0433a92211bae5b1b40de4c53e\n",
            "Successfully built auto_LiRPA\n",
            "Installing collected packages: auto_LiRPA\n",
            "  Attempting uninstall: auto_LiRPA\n",
            "    Found existing installation: auto_LiRPA 0.6.0\n",
            "    Uninstalling auto_LiRPA-0.6.0:\n",
            "      Successfully uninstalled auto_LiRPA-0.6.0\n",
            "Successfully installed auto_LiRPA-0.6.0\n"
          ]
        }
      ],
      "source": [
        "## TODO: Write the interval analysis for the simple model\n",
        "## you can use https://github.com/Zinoex/bound_propagation\n",
        "\n",
        "# I used auto_LiRPA\n",
        "! git clone https://github.com/Verified-Intelligence/auto_LiRPA\n",
        "! pip install auto_LiRPA/."
      ]
    },
    {
      "cell_type": "code",
      "execution_count": 5,
      "id": "q3zvdb5ovokU",
      "metadata": {
        "colab": {
          "base_uri": "https://localhost:8080/"
        },
        "id": "q3zvdb5ovokU",
        "outputId": "00c185d7-e103-409d-9152-3c070782f61b"
      },
      "outputs": [
        {
          "name": "stderr",
          "output_type": "stream",
          "text": [
            "No CUDA runtime is found, using CUDA_HOME='/usr/local/cuda'\n",
            "/usr/local/lib/python3.12/dist-packages/jupyter_client/session.py:203: DeprecationWarning: datetime.datetime.utcnow() is deprecated and scheduled for removal in a future version. Use timezone-aware objects to represent datetimes in UTC: datetime.datetime.now(datetime.UTC).\n",
            "  return datetime.utcnow().replace(tzinfo=utc)\n"
          ]
        }
      ],
      "source": [
        "from auto_LiRPA import BoundedModule, BoundedTensor, PerturbationLpNorm  # pip install auto_LiRPA\n",
        "\n",
        "dummy = torch.zeros(1,1,28,28, device=device)\n",
        "model_bp = BoundedModule(model, dummy)  # default options fine for IBP\n",
        "\n",
        "@torch.no_grad()\n",
        "def verified_accuracy_ibp(model_bp, loader, eps):\n",
        "    model_bp.eval()\n",
        "    total = verified = 0\n",
        "\n",
        "    for x, y in loader:\n",
        "        x, y = x.to(device), y.to(device)\n",
        "\n",
        "        ptb = PerturbationLpNorm(norm=np.inf, eps=float(eps))\n",
        "        x_ptb = BoundedTensor(x, ptb)\n",
        "\n",
        "        # Direct output bounds (no C): returns [B,10] lower/upper on logits\n",
        "        lb, ub = model_bp.compute_bounds(x=(x_ptb,), method='IBP')\n",
        "\n",
        "        B = y.size(0)\n",
        "        true_lb = lb[torch.arange(B, device=device), y]          # lower bound of true class\n",
        "        ub_others = ub.clone()\n",
        "        ub_others[torch.arange(B, device=device), y] = -1e9      # exclude true class\n",
        "        max_other = ub_others.max(dim=1).values                   # max upper of other classes\n",
        "\n",
        "        is_cert = (true_lb > max_other)                           # certified robust?\n",
        "        verified += is_cert.sum().item()\n",
        "        total    += B\n",
        "\n",
        "    acc = 100.0 * verified / max(1, total)\n",
        "    print(f\"Verified accuracy (IBP, eps={eps}): {acc:.2f}%\")\n",
        "    return acc"
      ]
    },
    {
      "cell_type": "code",
      "execution_count": 6,
      "id": "tBzpseVSjSab",
      "metadata": {
        "colab": {
          "base_uri": "https://localhost:8080/"
        },
        "id": "tBzpseVSjSab",
        "outputId": "5a57ca78-1564-481a-aa3a-1b4ea5e98d19"
      },
      "outputs": [
        {
          "name": "stderr",
          "output_type": "stream",
          "text": [
            "/usr/local/lib/python3.12/dist-packages/torchvision/datasets/mnist.py:143: DeprecationWarning: 'mode' parameter is deprecated and will be removed in Pillow 13 (2026-10-15)\n",
            "  img = Image.fromarray(img.numpy(), mode=\"L\")\n"
          ]
        },
        {
          "name": "stdout",
          "output_type": "stream",
          "text": [
            "Verified accuracy (IBP, eps=0.01): 26.83%\n",
            "Verified accuracy (IBP, eps=0.020000000000000004): 0.52%\n",
            "Verified accuracy (IBP, eps=0.030000000000000006): 0.00%\n",
            "Verified accuracy (IBP, eps=0.04000000000000001): 0.00%\n",
            "Verified accuracy (IBP, eps=0.05000000000000001): 0.00%\n",
            "Verified accuracy (IBP, eps=0.06000000000000001): 0.00%\n",
            "Verified accuracy (IBP, eps=0.07): 0.00%\n",
            "Verified accuracy (IBP, eps=0.08): 0.00%\n",
            "Verified accuracy (IBP, eps=0.09000000000000001): 0.00%\n",
            "Verified accuracy (IBP, eps=0.1): 0.00%\n"
          ]
        }
      ],
      "source": [
        "import numpy as np\n",
        "\n",
        "# Test the model on 10 L∞ neighborhoods (ε values) evenly spaced between 0.01 and 0.1 inclusive\n",
        "eps_values = np.linspace(0.01, 0.1, 10)\n",
        "\n",
        "for eps in eps_values:\n",
        "    verified_accuracy_ibp(model_bp, test_loader, eps)"
      ]
    }
  ],
  "metadata": {
    "colab": {
      "provenance": []
    },
    "kernelspec": {
      "display_name": "base",
      "language": "python",
      "name": "python3"
    },
    "language_info": {
      "codemirror_mode": {
        "name": "ipython",
        "version": 3
      },
      "file_extension": ".py",
      "mimetype": "text/x-python",
      "name": "python",
      "nbconvert_exporter": "python",
      "pygments_lexer": "ipython3",
      "version": "3.12.2"
    }
  },
  "nbformat": 4,
  "nbformat_minor": 5
}
